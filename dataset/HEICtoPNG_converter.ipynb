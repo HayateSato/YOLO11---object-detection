{
 "cells": [
  {
   "cell_type": "code",
   "execution_count": null,
   "id": "563aa99c",
   "metadata": {},
   "outputs": [],
   "source": [
    "import os\n",
    "import pyheif\n",
    "from PIL import Image"
   ]
  },
  {
   "cell_type": "code",
   "execution_count": null,
   "id": "0db96633",
   "metadata": {},
   "outputs": [],
   "source": [
    "\n",
    "\n",
    "# Set the folder path where your HEIC files are\n",
    "input_folder = \"/original/HEIC/\"\n",
    "output_folder = \"/original/\"\n",
    "output_folder = os.path.join(output_folder, \"converted_jpgs\")\n",
    "os.makedirs(output_folder, exist_ok=True)\n",
    "\n",
    "# Loop through all files in the folder\n",
    "for filename in os.listdir(input_folder):\n",
    "    if filename.lower().endswith(\".heic\"):\n",
    "        heic_path = os.path.join(input_folder, filename)\n",
    "        \n",
    "        # Read HEIC file\n",
    "        heif_file = pyheif.read(heic_path)\n",
    "        \n",
    "        # Convert to PIL Image\n",
    "        image = Image.frombytes(\n",
    "            heif_file.mode, \n",
    "            heif_file.size, \n",
    "            heif_file.data, \n",
    "            \"raw\", \n",
    "            heif_file.mode\n",
    "        )\n",
    "        \n",
    "        # Save as JPG\n",
    "        output_filename = os.path.splitext(filename)[0] + \".jpg\"\n",
    "        output_path = os.path.join(output_folder, output_filename)\n",
    "        image.save(output_path, \"JPEG\")\n",
    "        print(f\"Converted {filename} → {output_filename}\")\n"
   ]
  }
 ],
 "metadata": {
  "language_info": {
   "name": "python"
  }
 },
 "nbformat": 4,
 "nbformat_minor": 5
}
